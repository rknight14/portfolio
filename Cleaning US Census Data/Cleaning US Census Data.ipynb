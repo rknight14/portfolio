{
 "cells": [
  {
   "cell_type": "markdown",
   "metadata": {},
   "source": [
    "# Cleaning US Census Data"
   ]
  },
  {
   "cell_type": "markdown",
   "metadata": {},
   "source": [
    "Project Prompt: You just got hired as a Data Analyst at the Census Bureau, which collects census data and creates interesting visualizations and insights from it.\n",
    "\n",
    "The person who had your job before you left you all the data they had for the most recent census. It is in multiple `csv` files. They didn't use pandas, they would just look through these `csv` files manually whenever they wanted to find something. Sometimes they would copy and paste certain numbers into Excel to make charts.\n",
    "\n",
    "Your boss wants you to make some scatterplots and histograms by the end of the day. Can you get this data into `pandas` and into reasonable shape so that you can make these histograms?"
   ]
  },
  {
   "cell_type": "markdown",
   "metadata": {},
   "source": [
    "## Inspect the Data!"
   ]
  },
  {
   "cell_type": "markdown",
   "metadata": {},
   "source": [
    "1. The first visualization your boss wants you to make is a scatterplot that shows average income in a state vs proportion of women in that state."
   ]
  },
  {
   "cell_type": "markdown",
   "metadata": {},
   "source": [
    "2. It will be easier to inspect this data once we have it in a DataFrame. Using `glob`, loop through the census files available and load them into DataFrames. Then, concatenate all of those DataFrames together into one DataFrame, called something like `us_census`."
   ]
  },
  {
   "cell_type": "code",
   "execution_count": 7,
   "metadata": {},
   "outputs": [
    {
     "data": {
      "text/html": [
       "<div>\n",
       "<style scoped>\n",
       "    .dataframe tbody tr th:only-of-type {\n",
       "        vertical-align: middle;\n",
       "    }\n",
       "\n",
       "    .dataframe tbody tr th {\n",
       "        vertical-align: top;\n",
       "    }\n",
       "\n",
       "    .dataframe thead th {\n",
       "        text-align: right;\n",
       "    }\n",
       "</style>\n",
       "<table border=\"1\" class=\"dataframe\">\n",
       "  <thead>\n",
       "    <tr style=\"text-align: right;\">\n",
       "      <th></th>\n",
       "      <th>Unnamed: 0</th>\n",
       "      <th>State</th>\n",
       "      <th>TotalPop</th>\n",
       "      <th>Hispanic</th>\n",
       "      <th>White</th>\n",
       "      <th>Black</th>\n",
       "      <th>Native</th>\n",
       "      <th>Asian</th>\n",
       "      <th>Pacific</th>\n",
       "      <th>Income</th>\n",
       "      <th>GenderPop</th>\n",
       "    </tr>\n",
       "  </thead>\n",
       "  <tbody>\n",
       "    <tr>\n",
       "      <th>0</th>\n",
       "      <td>0</td>\n",
       "      <td>Rhode Island</td>\n",
       "      <td>1053661</td>\n",
       "      <td>13.36%</td>\n",
       "      <td>74.33%</td>\n",
       "      <td>5.68%</td>\n",
       "      <td>0.35%</td>\n",
       "      <td>3.25%</td>\n",
       "      <td>0.04%</td>\n",
       "      <td>$59,125.27</td>\n",
       "      <td>510388M_543273F</td>\n",
       "    </tr>\n",
       "    <tr>\n",
       "      <th>1</th>\n",
       "      <td>1</td>\n",
       "      <td>South Carolina</td>\n",
       "      <td>4777576</td>\n",
       "      <td>5.06%</td>\n",
       "      <td>62.89%</td>\n",
       "      <td>28.75%</td>\n",
       "      <td>0.29%</td>\n",
       "      <td>1.25%</td>\n",
       "      <td>0.05%</td>\n",
       "      <td>$46,296.81</td>\n",
       "      <td>2322409M_2455167F</td>\n",
       "    </tr>\n",
       "    <tr>\n",
       "      <th>2</th>\n",
       "      <td>2</td>\n",
       "      <td>South Dakota</td>\n",
       "      <td>843190</td>\n",
       "      <td>3.24%</td>\n",
       "      <td>82.50%</td>\n",
       "      <td>1.42%</td>\n",
       "      <td>9.42%</td>\n",
       "      <td>1.02%</td>\n",
       "      <td>0.04%</td>\n",
       "      <td>$51,805.41</td>\n",
       "      <td>423477M_419713F</td>\n",
       "    </tr>\n",
       "    <tr>\n",
       "      <th>3</th>\n",
       "      <td>3</td>\n",
       "      <td>Tennessee</td>\n",
       "      <td>6499615</td>\n",
       "      <td>4.72%</td>\n",
       "      <td>73.49%</td>\n",
       "      <td>18.28%</td>\n",
       "      <td>0.23%</td>\n",
       "      <td>1.41%</td>\n",
       "      <td>0.04%</td>\n",
       "      <td>$47,328.08</td>\n",
       "      <td>3167756M_3331859F</td>\n",
       "    </tr>\n",
       "    <tr>\n",
       "      <th>4</th>\n",
       "      <td>4</td>\n",
       "      <td>Texas</td>\n",
       "      <td>26538614</td>\n",
       "      <td>38.05%</td>\n",
       "      <td>44.69%</td>\n",
       "      <td>11.65%</td>\n",
       "      <td>0.26%</td>\n",
       "      <td>3.67%</td>\n",
       "      <td>0.07%</td>\n",
       "      <td>$55,874.52</td>\n",
       "      <td>13171316M_13367298F</td>\n",
       "    </tr>\n",
       "  </tbody>\n",
       "</table>\n",
       "</div>"
      ],
      "text/plain": [
       "   Unnamed: 0           State  TotalPop Hispanic   White   Black Native  \\\n",
       "0           0    Rhode Island   1053661   13.36%  74.33%   5.68%  0.35%   \n",
       "1           1  South Carolina   4777576    5.06%  62.89%  28.75%  0.29%   \n",
       "2           2    South Dakota    843190    3.24%  82.50%   1.42%  9.42%   \n",
       "3           3       Tennessee   6499615    4.72%  73.49%  18.28%  0.23%   \n",
       "4           4           Texas  26538614   38.05%  44.69%  11.65%  0.26%   \n",
       "\n",
       "   Asian Pacific       Income            GenderPop  \n",
       "0  3.25%   0.04%  $59,125.27       510388M_543273F  \n",
       "1  1.25%   0.05%  $46,296.81     2322409M_2455167F  \n",
       "2  1.02%   0.04%  $51,805.41       423477M_419713F  \n",
       "3  1.41%   0.04%  $47,328.08     3167756M_3331859F  \n",
       "4  3.67%   0.07%  $55,874.52   13171316M_13367298F  "
      ]
     },
     "execution_count": 7,
     "metadata": {},
     "output_type": "execute_result"
    }
   ],
   "source": [
    "import pandas as pd\n",
    "import numpy as np\n",
    "import matplotlib.pyplot as plt\n",
    "import glob\n",
    "\n",
    "files = glob.glob('states*.csv')\n",
    "df_list = []\n",
    "for i in files:\n",
    "    df = pd.read_csv(i)\n",
    "    df_list.append(df)\n",
    "us_census = pd.concat(df_list)\n",
    "    \n",
    "us_census.head()"
   ]
  },
  {
   "cell_type": "markdown",
   "metadata": {},
   "source": [
    "3. Look at the `.columns` and the `.dtypes` of the `us_census` DataFrame. Are those datatypes going to hinder you as you try to make histograms?"
   ]
  },
  {
   "cell_type": "code",
   "execution_count": 8,
   "metadata": {},
   "outputs": [
    {
     "name": "stdout",
     "output_type": "stream",
     "text": [
      "Index(['Unnamed: 0', 'State', 'TotalPop', 'Hispanic', 'White', 'Black',\n",
      "       'Native', 'Asian', 'Pacific', 'Income', 'GenderPop'],\n",
      "      dtype='object')\n"
     ]
    },
    {
     "data": {
      "text/plain": [
       "Unnamed: 0     int64\n",
       "State         object\n",
       "TotalPop       int64\n",
       "Hispanic      object\n",
       "White         object\n",
       "Black         object\n",
       "Native        object\n",
       "Asian         object\n",
       "Pacific       object\n",
       "Income        object\n",
       "GenderPop     object\n",
       "dtype: object"
      ]
     },
     "execution_count": 8,
     "metadata": {},
     "output_type": "execute_result"
    }
   ],
   "source": [
    "print(us_census.columns)\n",
    "us_census.dtypes"
   ]
  },
  {
   "cell_type": "markdown",
   "metadata": {},
   "source": [
    "4. Look at the `head()` of the DataFrame so that you can understand why some of these `dtypes` are objects instead of integers or floats.\n",
    "\n",
    "   Start to make a plan for how to convert these columns into the right types for manipulation."
   ]
  },
  {
   "cell_type": "code",
   "execution_count": 9,
   "metadata": {},
   "outputs": [
    {
     "data": {
      "text/html": [
       "<div>\n",
       "<style scoped>\n",
       "    .dataframe tbody tr th:only-of-type {\n",
       "        vertical-align: middle;\n",
       "    }\n",
       "\n",
       "    .dataframe tbody tr th {\n",
       "        vertical-align: top;\n",
       "    }\n",
       "\n",
       "    .dataframe thead th {\n",
       "        text-align: right;\n",
       "    }\n",
       "</style>\n",
       "<table border=\"1\" class=\"dataframe\">\n",
       "  <thead>\n",
       "    <tr style=\"text-align: right;\">\n",
       "      <th></th>\n",
       "      <th>Unnamed: 0</th>\n",
       "      <th>State</th>\n",
       "      <th>TotalPop</th>\n",
       "      <th>Hispanic</th>\n",
       "      <th>White</th>\n",
       "      <th>Black</th>\n",
       "      <th>Native</th>\n",
       "      <th>Asian</th>\n",
       "      <th>Pacific</th>\n",
       "      <th>Income</th>\n",
       "      <th>GenderPop</th>\n",
       "    </tr>\n",
       "  </thead>\n",
       "  <tbody>\n",
       "    <tr>\n",
       "      <th>0</th>\n",
       "      <td>0</td>\n",
       "      <td>Rhode Island</td>\n",
       "      <td>1053661</td>\n",
       "      <td>13.36%</td>\n",
       "      <td>74.33%</td>\n",
       "      <td>5.68%</td>\n",
       "      <td>0.35%</td>\n",
       "      <td>3.25%</td>\n",
       "      <td>0.04%</td>\n",
       "      <td>$59,125.27</td>\n",
       "      <td>510388M_543273F</td>\n",
       "    </tr>\n",
       "    <tr>\n",
       "      <th>1</th>\n",
       "      <td>1</td>\n",
       "      <td>South Carolina</td>\n",
       "      <td>4777576</td>\n",
       "      <td>5.06%</td>\n",
       "      <td>62.89%</td>\n",
       "      <td>28.75%</td>\n",
       "      <td>0.29%</td>\n",
       "      <td>1.25%</td>\n",
       "      <td>0.05%</td>\n",
       "      <td>$46,296.81</td>\n",
       "      <td>2322409M_2455167F</td>\n",
       "    </tr>\n",
       "    <tr>\n",
       "      <th>2</th>\n",
       "      <td>2</td>\n",
       "      <td>South Dakota</td>\n",
       "      <td>843190</td>\n",
       "      <td>3.24%</td>\n",
       "      <td>82.50%</td>\n",
       "      <td>1.42%</td>\n",
       "      <td>9.42%</td>\n",
       "      <td>1.02%</td>\n",
       "      <td>0.04%</td>\n",
       "      <td>$51,805.41</td>\n",
       "      <td>423477M_419713F</td>\n",
       "    </tr>\n",
       "    <tr>\n",
       "      <th>3</th>\n",
       "      <td>3</td>\n",
       "      <td>Tennessee</td>\n",
       "      <td>6499615</td>\n",
       "      <td>4.72%</td>\n",
       "      <td>73.49%</td>\n",
       "      <td>18.28%</td>\n",
       "      <td>0.23%</td>\n",
       "      <td>1.41%</td>\n",
       "      <td>0.04%</td>\n",
       "      <td>$47,328.08</td>\n",
       "      <td>3167756M_3331859F</td>\n",
       "    </tr>\n",
       "    <tr>\n",
       "      <th>4</th>\n",
       "      <td>4</td>\n",
       "      <td>Texas</td>\n",
       "      <td>26538614</td>\n",
       "      <td>38.05%</td>\n",
       "      <td>44.69%</td>\n",
       "      <td>11.65%</td>\n",
       "      <td>0.26%</td>\n",
       "      <td>3.67%</td>\n",
       "      <td>0.07%</td>\n",
       "      <td>$55,874.52</td>\n",
       "      <td>13171316M_13367298F</td>\n",
       "    </tr>\n",
       "  </tbody>\n",
       "</table>\n",
       "</div>"
      ],
      "text/plain": [
       "   Unnamed: 0           State  TotalPop Hispanic   White   Black Native  \\\n",
       "0           0    Rhode Island   1053661   13.36%  74.33%   5.68%  0.35%   \n",
       "1           1  South Carolina   4777576    5.06%  62.89%  28.75%  0.29%   \n",
       "2           2    South Dakota    843190    3.24%  82.50%   1.42%  9.42%   \n",
       "3           3       Tennessee   6499615    4.72%  73.49%  18.28%  0.23%   \n",
       "4           4           Texas  26538614   38.05%  44.69%  11.65%  0.26%   \n",
       "\n",
       "   Asian Pacific       Income            GenderPop  \n",
       "0  3.25%   0.04%  $59,125.27       510388M_543273F  \n",
       "1  1.25%   0.05%  $46,296.81     2322409M_2455167F  \n",
       "2  1.02%   0.04%  $51,805.41       423477M_419713F  \n",
       "3  1.41%   0.04%  $47,328.08     3167756M_3331859F  \n",
       "4  3.67%   0.07%  $55,874.52   13171316M_13367298F  "
      ]
     },
     "execution_count": 9,
     "metadata": {},
     "output_type": "execute_result"
    }
   ],
   "source": [
    "us_census.head()"
   ]
  },
  {
   "cell_type": "markdown",
   "metadata": {},
   "source": [
    "## Regex to the Rescue"
   ]
  },
  {
   "cell_type": "markdown",
   "metadata": {},
   "source": [
    "5. Use regex to turn the `Income` column into a format that is ready for conversion into a numerical type."
   ]
  },
  {
   "cell_type": "code",
   "execution_count": 10,
   "metadata": {},
   "outputs": [
    {
     "data": {
      "text/html": [
       "<div>\n",
       "<style scoped>\n",
       "    .dataframe tbody tr th:only-of-type {\n",
       "        vertical-align: middle;\n",
       "    }\n",
       "\n",
       "    .dataframe tbody tr th {\n",
       "        vertical-align: top;\n",
       "    }\n",
       "\n",
       "    .dataframe thead th {\n",
       "        text-align: right;\n",
       "    }\n",
       "</style>\n",
       "<table border=\"1\" class=\"dataframe\">\n",
       "  <thead>\n",
       "    <tr style=\"text-align: right;\">\n",
       "      <th></th>\n",
       "      <th>Unnamed: 0</th>\n",
       "      <th>State</th>\n",
       "      <th>TotalPop</th>\n",
       "      <th>Hispanic</th>\n",
       "      <th>White</th>\n",
       "      <th>Black</th>\n",
       "      <th>Native</th>\n",
       "      <th>Asian</th>\n",
       "      <th>Pacific</th>\n",
       "      <th>Income</th>\n",
       "      <th>GenderPop</th>\n",
       "    </tr>\n",
       "  </thead>\n",
       "  <tbody>\n",
       "    <tr>\n",
       "      <th>0</th>\n",
       "      <td>0</td>\n",
       "      <td>Rhode Island</td>\n",
       "      <td>1053661</td>\n",
       "      <td>13.36%</td>\n",
       "      <td>74.33%</td>\n",
       "      <td>5.68%</td>\n",
       "      <td>0.35%</td>\n",
       "      <td>3.25%</td>\n",
       "      <td>0.04%</td>\n",
       "      <td>59125.27</td>\n",
       "      <td>510388M_543273F</td>\n",
       "    </tr>\n",
       "    <tr>\n",
       "      <th>1</th>\n",
       "      <td>1</td>\n",
       "      <td>South Carolina</td>\n",
       "      <td>4777576</td>\n",
       "      <td>5.06%</td>\n",
       "      <td>62.89%</td>\n",
       "      <td>28.75%</td>\n",
       "      <td>0.29%</td>\n",
       "      <td>1.25%</td>\n",
       "      <td>0.05%</td>\n",
       "      <td>46296.81</td>\n",
       "      <td>2322409M_2455167F</td>\n",
       "    </tr>\n",
       "    <tr>\n",
       "      <th>2</th>\n",
       "      <td>2</td>\n",
       "      <td>South Dakota</td>\n",
       "      <td>843190</td>\n",
       "      <td>3.24%</td>\n",
       "      <td>82.50%</td>\n",
       "      <td>1.42%</td>\n",
       "      <td>9.42%</td>\n",
       "      <td>1.02%</td>\n",
       "      <td>0.04%</td>\n",
       "      <td>51805.41</td>\n",
       "      <td>423477M_419713F</td>\n",
       "    </tr>\n",
       "    <tr>\n",
       "      <th>3</th>\n",
       "      <td>3</td>\n",
       "      <td>Tennessee</td>\n",
       "      <td>6499615</td>\n",
       "      <td>4.72%</td>\n",
       "      <td>73.49%</td>\n",
       "      <td>18.28%</td>\n",
       "      <td>0.23%</td>\n",
       "      <td>1.41%</td>\n",
       "      <td>0.04%</td>\n",
       "      <td>47328.08</td>\n",
       "      <td>3167756M_3331859F</td>\n",
       "    </tr>\n",
       "    <tr>\n",
       "      <th>4</th>\n",
       "      <td>4</td>\n",
       "      <td>Texas</td>\n",
       "      <td>26538614</td>\n",
       "      <td>38.05%</td>\n",
       "      <td>44.69%</td>\n",
       "      <td>11.65%</td>\n",
       "      <td>0.26%</td>\n",
       "      <td>3.67%</td>\n",
       "      <td>0.07%</td>\n",
       "      <td>55874.52</td>\n",
       "      <td>13171316M_13367298F</td>\n",
       "    </tr>\n",
       "  </tbody>\n",
       "</table>\n",
       "</div>"
      ],
      "text/plain": [
       "   Unnamed: 0           State  TotalPop Hispanic   White   Black Native  \\\n",
       "0           0    Rhode Island   1053661   13.36%  74.33%   5.68%  0.35%   \n",
       "1           1  South Carolina   4777576    5.06%  62.89%  28.75%  0.29%   \n",
       "2           2    South Dakota    843190    3.24%  82.50%   1.42%  9.42%   \n",
       "3           3       Tennessee   6499615    4.72%  73.49%  18.28%  0.23%   \n",
       "4           4           Texas  26538614   38.05%  44.69%  11.65%  0.26%   \n",
       "\n",
       "   Asian Pacific    Income            GenderPop  \n",
       "0  3.25%   0.04%  59125.27      510388M_543273F  \n",
       "1  1.25%   0.05%  46296.81    2322409M_2455167F  \n",
       "2  1.02%   0.04%  51805.41      423477M_419713F  \n",
       "3  1.41%   0.04%  47328.08    3167756M_3331859F  \n",
       "4  3.67%   0.07%  55874.52  13171316M_13367298F  "
      ]
     },
     "execution_count": 10,
     "metadata": {},
     "output_type": "execute_result"
    }
   ],
   "source": [
    "us_census.Income = us_census.Income.replace('[\\$,]','', regex=True)\n",
    "us_census.Income = pd.to_numeric(us_census.Income)\n",
    "us_census.head()"
   ]
  },
  {
   "cell_type": "markdown",
   "metadata": {},
   "source": [
    "6. Look at the `GenderPop` column. We are going to want to separate this into two columns, the `Men` column, and the `Women` column."
   ]
  },
  {
   "cell_type": "code",
   "execution_count": 11,
   "metadata": {},
   "outputs": [
    {
     "data": {
      "text/html": [
       "<div>\n",
       "<style scoped>\n",
       "    .dataframe tbody tr th:only-of-type {\n",
       "        vertical-align: middle;\n",
       "    }\n",
       "\n",
       "    .dataframe tbody tr th {\n",
       "        vertical-align: top;\n",
       "    }\n",
       "\n",
       "    .dataframe thead th {\n",
       "        text-align: right;\n",
       "    }\n",
       "</style>\n",
       "<table border=\"1\" class=\"dataframe\">\n",
       "  <thead>\n",
       "    <tr style=\"text-align: right;\">\n",
       "      <th></th>\n",
       "      <th>Unnamed: 0</th>\n",
       "      <th>State</th>\n",
       "      <th>TotalPop</th>\n",
       "      <th>Hispanic</th>\n",
       "      <th>White</th>\n",
       "      <th>Black</th>\n",
       "      <th>Native</th>\n",
       "      <th>Asian</th>\n",
       "      <th>Pacific</th>\n",
       "      <th>Income</th>\n",
       "      <th>GenderPop</th>\n",
       "      <th>Men</th>\n",
       "      <th>Women</th>\n",
       "    </tr>\n",
       "  </thead>\n",
       "  <tbody>\n",
       "    <tr>\n",
       "      <th>0</th>\n",
       "      <td>0</td>\n",
       "      <td>Rhode Island</td>\n",
       "      <td>1053661</td>\n",
       "      <td>13.36%</td>\n",
       "      <td>74.33%</td>\n",
       "      <td>5.68%</td>\n",
       "      <td>0.35%</td>\n",
       "      <td>3.25%</td>\n",
       "      <td>0.04%</td>\n",
       "      <td>59125.27</td>\n",
       "      <td>510388M_543273F</td>\n",
       "      <td>510388M</td>\n",
       "      <td>543273F</td>\n",
       "    </tr>\n",
       "    <tr>\n",
       "      <th>1</th>\n",
       "      <td>1</td>\n",
       "      <td>South Carolina</td>\n",
       "      <td>4777576</td>\n",
       "      <td>5.06%</td>\n",
       "      <td>62.89%</td>\n",
       "      <td>28.75%</td>\n",
       "      <td>0.29%</td>\n",
       "      <td>1.25%</td>\n",
       "      <td>0.05%</td>\n",
       "      <td>46296.81</td>\n",
       "      <td>2322409M_2455167F</td>\n",
       "      <td>2322409M</td>\n",
       "      <td>2455167F</td>\n",
       "    </tr>\n",
       "    <tr>\n",
       "      <th>2</th>\n",
       "      <td>2</td>\n",
       "      <td>South Dakota</td>\n",
       "      <td>843190</td>\n",
       "      <td>3.24%</td>\n",
       "      <td>82.50%</td>\n",
       "      <td>1.42%</td>\n",
       "      <td>9.42%</td>\n",
       "      <td>1.02%</td>\n",
       "      <td>0.04%</td>\n",
       "      <td>51805.41</td>\n",
       "      <td>423477M_419713F</td>\n",
       "      <td>423477M</td>\n",
       "      <td>419713F</td>\n",
       "    </tr>\n",
       "    <tr>\n",
       "      <th>3</th>\n",
       "      <td>3</td>\n",
       "      <td>Tennessee</td>\n",
       "      <td>6499615</td>\n",
       "      <td>4.72%</td>\n",
       "      <td>73.49%</td>\n",
       "      <td>18.28%</td>\n",
       "      <td>0.23%</td>\n",
       "      <td>1.41%</td>\n",
       "      <td>0.04%</td>\n",
       "      <td>47328.08</td>\n",
       "      <td>3167756M_3331859F</td>\n",
       "      <td>3167756M</td>\n",
       "      <td>3331859F</td>\n",
       "    </tr>\n",
       "    <tr>\n",
       "      <th>4</th>\n",
       "      <td>4</td>\n",
       "      <td>Texas</td>\n",
       "      <td>26538614</td>\n",
       "      <td>38.05%</td>\n",
       "      <td>44.69%</td>\n",
       "      <td>11.65%</td>\n",
       "      <td>0.26%</td>\n",
       "      <td>3.67%</td>\n",
       "      <td>0.07%</td>\n",
       "      <td>55874.52</td>\n",
       "      <td>13171316M_13367298F</td>\n",
       "      <td>13171316M</td>\n",
       "      <td>13367298F</td>\n",
       "    </tr>\n",
       "  </tbody>\n",
       "</table>\n",
       "</div>"
      ],
      "text/plain": [
       "   Unnamed: 0           State  TotalPop Hispanic   White   Black Native  \\\n",
       "0           0    Rhode Island   1053661   13.36%  74.33%   5.68%  0.35%   \n",
       "1           1  South Carolina   4777576    5.06%  62.89%  28.75%  0.29%   \n",
       "2           2    South Dakota    843190    3.24%  82.50%   1.42%  9.42%   \n",
       "3           3       Tennessee   6499615    4.72%  73.49%  18.28%  0.23%   \n",
       "4           4           Texas  26538614   38.05%  44.69%  11.65%  0.26%   \n",
       "\n",
       "   Asian Pacific    Income            GenderPop        Men      Women  \n",
       "0  3.25%   0.04%  59125.27      510388M_543273F    510388M    543273F  \n",
       "1  1.25%   0.05%  46296.81    2322409M_2455167F   2322409M   2455167F  \n",
       "2  1.02%   0.04%  51805.41      423477M_419713F    423477M    419713F  \n",
       "3  1.41%   0.04%  47328.08    3167756M_3331859F   3167756M   3331859F  \n",
       "4  3.67%   0.07%  55874.52  13171316M_13367298F  13171316M  13367298F  "
      ]
     },
     "execution_count": 11,
     "metadata": {},
     "output_type": "execute_result"
    }
   ],
   "source": [
    "split_gender_pop = us_census.GenderPop.str.split('_')\n",
    "us_census['Men'] = split_gender_pop.str.get(0)\n",
    "us_census['Women'] = split_gender_pop.str.get(1)\n",
    "us_census.head()"
   ]
  },
  {
   "cell_type": "markdown",
   "metadata": {},
   "source": [
    "7. Convert both of the columns into numerical datatypes.\n",
    "\n",
    "   There is still an `M` or an `F` character in each entry! We should remove those before we convert."
   ]
  },
  {
   "cell_type": "code",
   "execution_count": 12,
   "metadata": {},
   "outputs": [
    {
     "data": {
      "text/html": [
       "<div>\n",
       "<style scoped>\n",
       "    .dataframe tbody tr th:only-of-type {\n",
       "        vertical-align: middle;\n",
       "    }\n",
       "\n",
       "    .dataframe tbody tr th {\n",
       "        vertical-align: top;\n",
       "    }\n",
       "\n",
       "    .dataframe thead th {\n",
       "        text-align: right;\n",
       "    }\n",
       "</style>\n",
       "<table border=\"1\" class=\"dataframe\">\n",
       "  <thead>\n",
       "    <tr style=\"text-align: right;\">\n",
       "      <th></th>\n",
       "      <th>Unnamed: 0</th>\n",
       "      <th>State</th>\n",
       "      <th>TotalPop</th>\n",
       "      <th>Hispanic</th>\n",
       "      <th>White</th>\n",
       "      <th>Black</th>\n",
       "      <th>Native</th>\n",
       "      <th>Asian</th>\n",
       "      <th>Pacific</th>\n",
       "      <th>Income</th>\n",
       "      <th>GenderPop</th>\n",
       "      <th>Men</th>\n",
       "      <th>Women</th>\n",
       "    </tr>\n",
       "  </thead>\n",
       "  <tbody>\n",
       "    <tr>\n",
       "      <th>0</th>\n",
       "      <td>0</td>\n",
       "      <td>Rhode Island</td>\n",
       "      <td>1053661</td>\n",
       "      <td>13.36%</td>\n",
       "      <td>74.33%</td>\n",
       "      <td>5.68%</td>\n",
       "      <td>0.35%</td>\n",
       "      <td>3.25%</td>\n",
       "      <td>0.04%</td>\n",
       "      <td>59125.27</td>\n",
       "      <td>510388M_543273F</td>\n",
       "      <td>510388</td>\n",
       "      <td>543273.0</td>\n",
       "    </tr>\n",
       "    <tr>\n",
       "      <th>1</th>\n",
       "      <td>1</td>\n",
       "      <td>South Carolina</td>\n",
       "      <td>4777576</td>\n",
       "      <td>5.06%</td>\n",
       "      <td>62.89%</td>\n",
       "      <td>28.75%</td>\n",
       "      <td>0.29%</td>\n",
       "      <td>1.25%</td>\n",
       "      <td>0.05%</td>\n",
       "      <td>46296.81</td>\n",
       "      <td>2322409M_2455167F</td>\n",
       "      <td>2322409</td>\n",
       "      <td>2455167.0</td>\n",
       "    </tr>\n",
       "    <tr>\n",
       "      <th>2</th>\n",
       "      <td>2</td>\n",
       "      <td>South Dakota</td>\n",
       "      <td>843190</td>\n",
       "      <td>3.24%</td>\n",
       "      <td>82.50%</td>\n",
       "      <td>1.42%</td>\n",
       "      <td>9.42%</td>\n",
       "      <td>1.02%</td>\n",
       "      <td>0.04%</td>\n",
       "      <td>51805.41</td>\n",
       "      <td>423477M_419713F</td>\n",
       "      <td>423477</td>\n",
       "      <td>419713.0</td>\n",
       "    </tr>\n",
       "    <tr>\n",
       "      <th>3</th>\n",
       "      <td>3</td>\n",
       "      <td>Tennessee</td>\n",
       "      <td>6499615</td>\n",
       "      <td>4.72%</td>\n",
       "      <td>73.49%</td>\n",
       "      <td>18.28%</td>\n",
       "      <td>0.23%</td>\n",
       "      <td>1.41%</td>\n",
       "      <td>0.04%</td>\n",
       "      <td>47328.08</td>\n",
       "      <td>3167756M_3331859F</td>\n",
       "      <td>3167756</td>\n",
       "      <td>3331859.0</td>\n",
       "    </tr>\n",
       "    <tr>\n",
       "      <th>4</th>\n",
       "      <td>4</td>\n",
       "      <td>Texas</td>\n",
       "      <td>26538614</td>\n",
       "      <td>38.05%</td>\n",
       "      <td>44.69%</td>\n",
       "      <td>11.65%</td>\n",
       "      <td>0.26%</td>\n",
       "      <td>3.67%</td>\n",
       "      <td>0.07%</td>\n",
       "      <td>55874.52</td>\n",
       "      <td>13171316M_13367298F</td>\n",
       "      <td>13171316</td>\n",
       "      <td>13367298.0</td>\n",
       "    </tr>\n",
       "  </tbody>\n",
       "</table>\n",
       "</div>"
      ],
      "text/plain": [
       "   Unnamed: 0           State  TotalPop Hispanic   White   Black Native  \\\n",
       "0           0    Rhode Island   1053661   13.36%  74.33%   5.68%  0.35%   \n",
       "1           1  South Carolina   4777576    5.06%  62.89%  28.75%  0.29%   \n",
       "2           2    South Dakota    843190    3.24%  82.50%   1.42%  9.42%   \n",
       "3           3       Tennessee   6499615    4.72%  73.49%  18.28%  0.23%   \n",
       "4           4           Texas  26538614   38.05%  44.69%  11.65%  0.26%   \n",
       "\n",
       "   Asian Pacific    Income            GenderPop       Men       Women  \n",
       "0  3.25%   0.04%  59125.27      510388M_543273F    510388    543273.0  \n",
       "1  1.25%   0.05%  46296.81    2322409M_2455167F   2322409   2455167.0  \n",
       "2  1.02%   0.04%  51805.41      423477M_419713F    423477    419713.0  \n",
       "3  1.41%   0.04%  47328.08    3167756M_3331859F   3167756   3331859.0  \n",
       "4  3.67%   0.07%  55874.52  13171316M_13367298F  13171316  13367298.0  "
      ]
     },
     "execution_count": 12,
     "metadata": {},
     "output_type": "execute_result"
    }
   ],
   "source": [
    "us_census.Men = us_census.Men.replace('M','', regex=True)\n",
    "us_census.Women = us_census.Women.replace('F','', regex=True)\n",
    "us_census.Men = pd.to_numeric(us_census.Men)\n",
    "us_census.Women = pd.to_numeric(us_census.Women)\n",
    "\n",
    "us_census.head()"
   ]
  },
  {
   "cell_type": "markdown",
   "metadata": {},
   "source": [
    "8. Use matplotlib to make a scatterplot"
   ]
  },
  {
   "cell_type": "code",
   "execution_count": 13,
   "metadata": {},
   "outputs": [
    {
     "data": {
      "image/png": "[encoded data removed]",
      "text/plain": [
       "<Figure size 640x480 with 1 Axes>"
      ]
     },
     "metadata": {},
     "output_type": "display_data"
    },
    {
     "data": {
      "text/plain": [
       "<Figure size 640x480 with 0 Axes>"
      ]
     },
     "metadata": {},
     "output_type": "display_data"
    }
   ],
   "source": [
    "plt.scatter(us_census.Women, us_census.Men)\n",
    "plt.xlabel('Women')\n",
    "plt.ylabel('Men')\n",
    "plt.show()\n",
    "plt.clf()"
   ]
  },
  {
   "cell_type": "markdown",
   "metadata": {},
   "source": [
    "9. You want to double check your work. You know from experience that these monstrous csv files probably have `nan` values in them! Print out your column with the number of women per state to see."
   ]
  },
  {
   "cell_type": "code",
   "execution_count": 14,
   "metadata": {},
   "outputs": [
    {
     "name": "stdout",
     "output_type": "stream",
     "text": [
      "0      543273.0\n",
      "1     2455167.0\n",
      "2      419713.0\n",
      "3     3331859.0\n",
      "4    13367298.0\n",
      "5     1444150.0\n",
      "0     1444150.0\n",
      "1      318031.0\n",
      "2     4195682.0\n",
      "3     3497739.0\n",
      "4      937789.0\n",
      "5     2890732.0\n",
      "0     3057895.0\n",
      "1     3455936.0\n",
      "2     5038598.0\n",
      "3     2727005.0\n",
      "4     1536358.0\n",
      "5     3081445.0\n",
      "0     3081445.0\n",
      "1      504536.0\n",
      "2      939759.0\n",
      "3     1390901.0\n",
      "4      670717.0\n",
      "5     4561386.0\n",
      "0     5913084.0\n",
      "1     1942789.0\n",
      "2     1990780.0\n",
      "3     6534215.0\n",
      "4     1869213.0\n",
      "5      543273.0\n",
      "0     4561386.0\n",
      "1     1051703.0\n",
      "2    10131373.0\n",
      "3     5049925.0\n",
      "4      353677.0\n",
      "5     5913084.0\n",
      "0     5123362.0\n",
      "1      696428.0\n",
      "2      806083.0\n",
      "3     6556862.0\n",
      "4     3333382.0\n",
      "5     1558931.0\n",
      "0     1558931.0\n",
      "1     1453125.0\n",
      "2     2233145.0\n",
      "3     2364097.0\n",
      "4      679019.0\n",
      "5     3057895.0\n",
      "0     2630239.0\n",
      "1     1841615.0\n",
      "2      478041.0\n",
      "3      340810.0\n",
      "4    10045763.0\n",
      "5     5123362.0\n",
      "0     2489527.0\n",
      "1      349215.0\n",
      "2     3342840.0\n",
      "3     1506295.0\n",
      "4    19334329.0\n",
      "5     2630239.0\n",
      "Name: Women, dtype: float64\n"
     ]
    }
   ],
   "source": [
    "# print(us_census.Women)\n",
    "us_census = us_census.fillna(value={'Women':(us_census.TotalPop - us_census.Men)})\n",
    "print(us_census.Women)"
   ]
  },
  {
   "cell_type": "markdown",
   "metadata": {},
   "source": [
    "10. We forgot to check for duplicates! Use `.duplicated()` on your `census` DataFrame to see if we have duplicate rows in there."
   ]
  },
  {
   "cell_type": "code",
   "execution_count": 15,
   "metadata": {},
   "outputs": [
    {
     "data": {
      "text/plain": [
       "0    False\n",
       "1    False\n",
       "2    False\n",
       "3    False\n",
       "4    False\n",
       "5    False\n",
       "0     True\n",
       "1    False\n",
       "2    False\n",
       "3    False\n",
       "4    False\n",
       "5    False\n",
       "0    False\n",
       "1    False\n",
       "2    False\n",
       "3    False\n",
       "4    False\n",
       "5    False\n",
       "0     True\n",
       "1    False\n",
       "2    False\n",
       "3    False\n",
       "4    False\n",
       "5    False\n",
       "0    False\n",
       "1    False\n",
       "2    False\n",
       "3    False\n",
       "4    False\n",
       "5     True\n",
       "0     True\n",
       "1    False\n",
       "2    False\n",
       "3    False\n",
       "4    False\n",
       "5     True\n",
       "0    False\n",
       "1    False\n",
       "2    False\n",
       "3    False\n",
       "4    False\n",
       "5    False\n",
       "0     True\n",
       "1    False\n",
       "2    False\n",
       "3    False\n",
       "4    False\n",
       "5     True\n",
       "0    False\n",
       "1    False\n",
       "2    False\n",
       "3    False\n",
       "4    False\n",
       "5     True\n",
       "0    False\n",
       "1    False\n",
       "2    False\n",
       "3    False\n",
       "4    False\n",
       "5     True\n",
       "dtype: bool"
      ]
     },
     "execution_count": 15,
     "metadata": {},
     "output_type": "execute_result"
    }
   ],
   "source": [
    "us_census.duplicated(subset = us_census.columns[1:])"
   ]
  },
  {
   "cell_type": "markdown",
   "metadata": {},
   "source": [
    "11. Drop those duplicates using the `.drop_duplicates()` function."
   ]
  },
  {
   "cell_type": "code",
   "execution_count": 16,
   "metadata": {},
   "outputs": [
    {
     "data": {
      "text/plain": [
       "0    False\n",
       "1    False\n",
       "2    False\n",
       "3    False\n",
       "4    False\n",
       "5    False\n",
       "1    False\n",
       "2    False\n",
       "3    False\n",
       "4    False\n",
       "5    False\n",
       "0    False\n",
       "1    False\n",
       "2    False\n",
       "3    False\n",
       "4    False\n",
       "5    False\n",
       "1    False\n",
       "2    False\n",
       "3    False\n",
       "4    False\n",
       "5    False\n",
       "0    False\n",
       "1    False\n",
       "2    False\n",
       "3    False\n",
       "4    False\n",
       "1    False\n",
       "2    False\n",
       "3    False\n",
       "4    False\n",
       "0    False\n",
       "1    False\n",
       "2    False\n",
       "3    False\n",
       "4    False\n",
       "5    False\n",
       "1    False\n",
       "2    False\n",
       "3    False\n",
       "4    False\n",
       "0    False\n",
       "1    False\n",
       "2    False\n",
       "3    False\n",
       "4    False\n",
       "0    False\n",
       "1    False\n",
       "2    False\n",
       "3    False\n",
       "4    False\n",
       "dtype: bool"
      ]
     },
     "execution_count": 16,
     "metadata": {},
     "output_type": "execute_result"
    }
   ],
   "source": [
    "us_census = us_census.drop_duplicates(subset = us_census.columns[1:])\n",
    "us_census.duplicated(subset = us_census.columns[1:])"
   ]
  },
  {
   "cell_type": "markdown",
   "metadata": {},
   "source": [
    "12. Make the scatterplot again."
   ]
  },
  {
   "cell_type": "code",
   "execution_count": 17,
   "metadata": {},
   "outputs": [
    {
     "data": {
      "image/png": "[encoded data removed]",
      "text/plain": [
       "<Figure size 640x480 with 1 Axes>"
      ]
     },
     "metadata": {},
     "output_type": "display_data"
    },
    {
     "data": {
      "text/plain": [
       "<Figure size 640x480 with 0 Axes>"
      ]
     },
     "metadata": {},
     "output_type": "display_data"
    }
   ],
   "source": [
    "plt.scatter(us_census.Women, us_census.Men)\n",
    "plt.xlabel('Women')\n",
    "plt.ylabel('Men')\n",
    "plt.show()\n",
    "plt.clf()"
   ]
  },
  {
   "cell_type": "markdown",
   "metadata": {},
   "source": [
    "## Histogram of Races"
   ]
  },
  {
   "cell_type": "markdown",
   "metadata": {},
   "source": [
    "13. Now your boss wants you to make a bunch of histograms out of the race data that you have. Look at the `.columns` again to see what the race categories are."
   ]
  },
  {
   "cell_type": "code",
   "execution_count": 18,
   "metadata": {},
   "outputs": [
    {
     "name": "stdout",
     "output_type": "stream",
     "text": [
      "Index(['Unnamed: 0', 'State', 'TotalPop', 'Hispanic', 'White', 'Black',\n",
      "       'Native', 'Asian', 'Pacific', 'Income', 'GenderPop', 'Men', 'Women'],\n",
      "      dtype='object')\n"
     ]
    },
    {
     "data": {
      "text/html": [
       "<div>\n",
       "<style scoped>\n",
       "    .dataframe tbody tr th:only-of-type {\n",
       "        vertical-align: middle;\n",
       "    }\n",
       "\n",
       "    .dataframe tbody tr th {\n",
       "        vertical-align: top;\n",
       "    }\n",
       "\n",
       "    .dataframe thead th {\n",
       "        text-align: right;\n",
       "    }\n",
       "</style>\n",
       "<table border=\"1\" class=\"dataframe\">\n",
       "  <thead>\n",
       "    <tr style=\"text-align: right;\">\n",
       "      <th></th>\n",
       "      <th>Unnamed: 0</th>\n",
       "      <th>State</th>\n",
       "      <th>TotalPop</th>\n",
       "      <th>Hispanic</th>\n",
       "      <th>White</th>\n",
       "      <th>Black</th>\n",
       "      <th>Native</th>\n",
       "      <th>Asian</th>\n",
       "      <th>Pacific</th>\n",
       "      <th>Income</th>\n",
       "      <th>GenderPop</th>\n",
       "      <th>Men</th>\n",
       "      <th>Women</th>\n",
       "    </tr>\n",
       "  </thead>\n",
       "  <tbody>\n",
       "    <tr>\n",
       "      <th>0</th>\n",
       "      <td>0</td>\n",
       "      <td>Rhode Island</td>\n",
       "      <td>1053661</td>\n",
       "      <td>13.36%</td>\n",
       "      <td>74.33%</td>\n",
       "      <td>5.68%</td>\n",
       "      <td>0.35%</td>\n",
       "      <td>3.25%</td>\n",
       "      <td>0.04%</td>\n",
       "      <td>59125.27</td>\n",
       "      <td>510388M_543273F</td>\n",
       "      <td>510388</td>\n",
       "      <td>543273.0</td>\n",
       "    </tr>\n",
       "    <tr>\n",
       "      <th>1</th>\n",
       "      <td>1</td>\n",
       "      <td>South Carolina</td>\n",
       "      <td>4777576</td>\n",
       "      <td>5.06%</td>\n",
       "      <td>62.89%</td>\n",
       "      <td>28.75%</td>\n",
       "      <td>0.29%</td>\n",
       "      <td>1.25%</td>\n",
       "      <td>0.05%</td>\n",
       "      <td>46296.81</td>\n",
       "      <td>2322409M_2455167F</td>\n",
       "      <td>2322409</td>\n",
       "      <td>2455167.0</td>\n",
       "    </tr>\n",
       "    <tr>\n",
       "      <th>2</th>\n",
       "      <td>2</td>\n",
       "      <td>South Dakota</td>\n",
       "      <td>843190</td>\n",
       "      <td>3.24%</td>\n",
       "      <td>82.50%</td>\n",
       "      <td>1.42%</td>\n",
       "      <td>9.42%</td>\n",
       "      <td>1.02%</td>\n",
       "      <td>0.04%</td>\n",
       "      <td>51805.41</td>\n",
       "      <td>423477M_419713F</td>\n",
       "      <td>423477</td>\n",
       "      <td>419713.0</td>\n",
       "    </tr>\n",
       "    <tr>\n",
       "      <th>3</th>\n",
       "      <td>3</td>\n",
       "      <td>Tennessee</td>\n",
       "      <td>6499615</td>\n",
       "      <td>4.72%</td>\n",
       "      <td>73.49%</td>\n",
       "      <td>18.28%</td>\n",
       "      <td>0.23%</td>\n",
       "      <td>1.41%</td>\n",
       "      <td>0.04%</td>\n",
       "      <td>47328.08</td>\n",
       "      <td>3167756M_3331859F</td>\n",
       "      <td>3167756</td>\n",
       "      <td>3331859.0</td>\n",
       "    </tr>\n",
       "    <tr>\n",
       "      <th>4</th>\n",
       "      <td>4</td>\n",
       "      <td>Texas</td>\n",
       "      <td>26538614</td>\n",
       "      <td>38.05%</td>\n",
       "      <td>44.69%</td>\n",
       "      <td>11.65%</td>\n",
       "      <td>0.26%</td>\n",
       "      <td>3.67%</td>\n",
       "      <td>0.07%</td>\n",
       "      <td>55874.52</td>\n",
       "      <td>13171316M_13367298F</td>\n",
       "      <td>13171316</td>\n",
       "      <td>13367298.0</td>\n",
       "    </tr>\n",
       "  </tbody>\n",
       "</table>\n",
       "</div>"
      ],
      "text/plain": [
       "   Unnamed: 0           State  TotalPop Hispanic   White   Black Native  \\\n",
       "0           0    Rhode Island   1053661   13.36%  74.33%   5.68%  0.35%   \n",
       "1           1  South Carolina   4777576    5.06%  62.89%  28.75%  0.29%   \n",
       "2           2    South Dakota    843190    3.24%  82.50%   1.42%  9.42%   \n",
       "3           3       Tennessee   6499615    4.72%  73.49%  18.28%  0.23%   \n",
       "4           4           Texas  26538614   38.05%  44.69%  11.65%  0.26%   \n",
       "\n",
       "   Asian Pacific    Income            GenderPop       Men       Women  \n",
       "0  3.25%   0.04%  59125.27      510388M_543273F    510388    543273.0  \n",
       "1  1.25%   0.05%  46296.81    2322409M_2455167F   2322409   2455167.0  \n",
       "2  1.02%   0.04%  51805.41      423477M_419713F    423477    419713.0  \n",
       "3  1.41%   0.04%  47328.08    3167756M_3331859F   3167756   3331859.0  \n",
       "4  3.67%   0.07%  55874.52  13171316M_13367298F  13171316  13367298.0  "
      ]
     },
     "execution_count": 18,
     "metadata": {},
     "output_type": "execute_result"
    }
   ],
   "source": [
    "print(us_census.columns)\n",
    "us_census.head()"
   ]
  },
  {
   "cell_type": "markdown",
   "metadata": {},
   "source": [
    "14. Try to make a histogram for each one/"
   ]
  },
  {
   "cell_type": "markdown",
   "metadata": {},
   "source": [
    "## Get Creative"
   ]
  },
  {
   "cell_type": "code",
   "execution_count": 19,
   "metadata": {},
   "outputs": [
    {
     "data": {
      "image/png": "[encoded data removed]",
      "text/plain": [
       "<Figure size 640x480 with 1 Axes>"
      ]
     },
     "metadata": {},
     "output_type": "display_data"
    },
    {
     "data": {
      "text/plain": [
       "<Figure size 640x480 with 0 Axes>"
      ]
     },
     "metadata": {},
     "output_type": "display_data"
    }
   ],
   "source": [
    "# HISPANIC\n",
    "us_census.Hispanic = us_census.Hispanic.replace('[\\%]','',regex= True)\n",
    "us_census.Hispanic = pd.to_numeric(us_census.Hispanic)\n",
    "for i in us_census.Hispanic.isna():\n",
    "    if i == True:\n",
    "        print('There is a missing value')\n",
    "        \n",
    "for i in us_census.duplicated(subset = us_census.columns[1:]):\n",
    "    if i == True:\n",
    "        print('There is a duplicate')\n",
    "\n",
    "plt.hist(us_census.Hispanic)\n",
    "plt.title('Race: Hispanic')\n",
    "plt.xlabel('Percent')\n",
    "plt.ylabel('Frequency')\n",
    "plt.show()\n",
    "plt.clf()\n"
   ]
  },
  {
   "cell_type": "code",
   "execution_count": 20,
   "metadata": {},
   "outputs": [
    {
     "data": {
      "image/png": "[encoded data removed]",
      "text/plain": [
       "<Figure size 640x480 with 1 Axes>"
      ]
     },
     "metadata": {},
     "output_type": "display_data"
    },
    {
     "data": {
      "text/plain": [
       "<Figure size 640x480 with 0 Axes>"
      ]
     },
     "metadata": {},
     "output_type": "display_data"
    }
   ],
   "source": [
    "# WHITE\n",
    "us_census.White = us_census.White.replace('[\\%]','',regex= True)\n",
    "us_census.White = pd.to_numeric(us_census.White)\n",
    "for i in us_census.White.isna():\n",
    "    if i == True:\n",
    "        print('There is a missing value')\n",
    "\n",
    "plt.hist(us_census.White)\n",
    "plt.title('Race: White')\n",
    "plt.xlabel('Percent')\n",
    "plt.ylabel('Frequency')\n",
    "plt.show()\n",
    "plt.clf()\n"
   ]
  },
  {
   "cell_type": "code",
   "execution_count": 21,
   "metadata": {},
   "outputs": [
    {
     "data": {
      "image/png": "[encoded data removed]",
      "text/plain": [
       "<Figure size 640x480 with 1 Axes>"
      ]
     },
     "metadata": {},
     "output_type": "display_data"
    },
    {
     "data": {
      "text/plain": [
       "<Figure size 640x480 with 0 Axes>"
      ]
     },
     "metadata": {},
     "output_type": "display_data"
    }
   ],
   "source": [
    "# BLACK\n",
    "us_census.Black = us_census.Black.replace('[\\%]','',regex= True)\n",
    "us_census.Black = pd.to_numeric(us_census.Black)\n",
    "for i in us_census.Black.isna():\n",
    "    if i == True:\n",
    "        print('There is a missing value')\n",
    "\n",
    "plt.hist(us_census.Black)\n",
    "plt.title('Race: Black')\n",
    "plt.xlabel('Percent')\n",
    "plt.ylabel('Frequency')\n",
    "plt.show()\n",
    "plt.clf()\n"
   ]
  },
  {
   "cell_type": "code",
   "execution_count": 22,
   "metadata": {},
   "outputs": [
    {
     "data": {
      "image/png": "[encoded data removed]",
      "text/plain": [
       "<Figure size 640x480 with 1 Axes>"
      ]
     },
     "metadata": {},
     "output_type": "display_data"
    },
    {
     "data": {
      "text/plain": [
       "<Figure size 640x480 with 0 Axes>"
      ]
     },
     "metadata": {},
     "output_type": "display_data"
    }
   ],
   "source": [
    "# NATIVE\n",
    "us_census.Native = us_census.Native.replace('[\\%]','',regex= True)\n",
    "us_census.Native = pd.to_numeric(us_census.Native)\n",
    "for i in us_census.Native.isna():\n",
    "    if i == True:\n",
    "        print('There is a missing value')\n",
    "\n",
    "plt.hist(us_census.Native)\n",
    "plt.title('Race: Native')\n",
    "plt.xlabel('Percent')\n",
    "plt.ylabel('Frequency')\n",
    "plt.show()\n",
    "plt.clf()\n"
   ]
  },
  {
   "cell_type": "code",
   "execution_count": 23,
   "metadata": {},
   "outputs": [
    {
     "data": {
      "image/png": "[encoded data removed]",
      "text/plain": [
       "<Figure size 640x480 with 1 Axes>"
      ]
     },
     "metadata": {},
     "output_type": "display_data"
    },
    {
     "data": {
      "text/plain": [
       "<Figure size 640x480 with 0 Axes>"
      ]
     },
     "metadata": {},
     "output_type": "display_data"
    }
   ],
   "source": [
    "# ASIAN\n",
    "us_census.Asian = us_census.Asian.replace('[\\%]','',regex= True)\n",
    "us_census.Asian = pd.to_numeric(us_census.Asian)\n",
    "for i in us_census.Asian.isna():\n",
    "    if i == True:\n",
    "        print('There is a missing value')\n",
    "        \n",
    "plt.hist(us_census.Asian)\n",
    "plt.title('Race: Asian')\n",
    "plt.xlabel('Percent')\n",
    "plt.ylabel('Frequency')\n",
    "plt.show()\n",
    "plt.clf()\n"
   ]
  },
  {
   "cell_type": "code",
   "execution_count": 24,
   "metadata": {},
   "outputs": [
    {
     "data": {
      "image/png": "[encoded data removed]",
      "text/plain": [
       "<Figure size 640x480 with 1 Axes>"
      ]
     },
     "metadata": {},
     "output_type": "display_data"
    },
    {
     "data": {
      "text/plain": [
       "<Figure size 640x480 with 0 Axes>"
      ]
     },
     "metadata": {},
     "output_type": "display_data"
    }
   ],
   "source": [
    "# PACIFIC\n",
    "us_census.Pacific = us_census.Pacific.replace('[\\%]','',regex= True)\n",
    "us_census.Pacific = pd.to_numeric(us_census.Pacific)\n",
    "us_census = us_census.fillna(value={'Pacific':(us_census.Pacific.mean())})\n",
    "us_census.Pacific = round(us_census.Pacific, 2)\n",
    "\n",
    "for i in us_census.Pacific.isna():\n",
    "    if i == True:\n",
    "        print('There is a missing value')\n",
    "\n",
    "\n",
    "plt.hist(us_census.Pacific)\n",
    "plt.title('Race: Pacific')\n",
    "plt.xlabel('Percent')\n",
    "plt.ylabel('Frequency')\n",
    "plt.show()\n",
    "plt.clf()\n"
   ]
  },
  {
   "cell_type": "code",
   "execution_count": 25,
   "metadata": {},
   "outputs": [
    {
     "name": "stdout",
     "output_type": "stream",
     "text": [
      "Unnamed: 0      int64\n",
      "State          object\n",
      "TotalPop        int64\n",
      "Hispanic      float64\n",
      "White         float64\n",
      "Black         float64\n",
      "Native        float64\n",
      "Asian         float64\n",
      "Pacific       float64\n",
      "Income        float64\n",
      "GenderPop      object\n",
      "Men             int64\n",
      "Women         float64\n",
      "dtype: object\n"
     ]
    },
    {
     "data": {
      "text/html": [
       "<div>\n",
       "<style scoped>\n",
       "    .dataframe tbody tr th:only-of-type {\n",
       "        vertical-align: middle;\n",
       "    }\n",
       "\n",
       "    .dataframe tbody tr th {\n",
       "        vertical-align: top;\n",
       "    }\n",
       "\n",
       "    .dataframe thead th {\n",
       "        text-align: right;\n",
       "    }\n",
       "</style>\n",
       "<table border=\"1\" class=\"dataframe\">\n",
       "  <thead>\n",
       "    <tr style=\"text-align: right;\">\n",
       "      <th></th>\n",
       "      <th>Unnamed: 0</th>\n",
       "      <th>State</th>\n",
       "      <th>TotalPop</th>\n",
       "      <th>Hispanic</th>\n",
       "      <th>White</th>\n",
       "      <th>Black</th>\n",
       "      <th>Native</th>\n",
       "      <th>Asian</th>\n",
       "      <th>Pacific</th>\n",
       "      <th>Income</th>\n",
       "      <th>GenderPop</th>\n",
       "      <th>Men</th>\n",
       "      <th>Women</th>\n",
       "    </tr>\n",
       "  </thead>\n",
       "  <tbody>\n",
       "    <tr>\n",
       "      <th>0</th>\n",
       "      <td>0</td>\n",
       "      <td>Rhode Island</td>\n",
       "      <td>1053661</td>\n",
       "      <td>13.36</td>\n",
       "      <td>74.33</td>\n",
       "      <td>5.68</td>\n",
       "      <td>0.35</td>\n",
       "      <td>3.25</td>\n",
       "      <td>0.04</td>\n",
       "      <td>59125.27</td>\n",
       "      <td>510388M_543273F</td>\n",
       "      <td>510388</td>\n",
       "      <td>543273.0</td>\n",
       "    </tr>\n",
       "    <tr>\n",
       "      <th>1</th>\n",
       "      <td>1</td>\n",
       "      <td>South Carolina</td>\n",
       "      <td>4777576</td>\n",
       "      <td>5.06</td>\n",
       "      <td>62.89</td>\n",
       "      <td>28.75</td>\n",
       "      <td>0.29</td>\n",
       "      <td>1.25</td>\n",
       "      <td>0.05</td>\n",
       "      <td>46296.81</td>\n",
       "      <td>2322409M_2455167F</td>\n",
       "      <td>2322409</td>\n",
       "      <td>2455167.0</td>\n",
       "    </tr>\n",
       "    <tr>\n",
       "      <th>2</th>\n",
       "      <td>2</td>\n",
       "      <td>South Dakota</td>\n",
       "      <td>843190</td>\n",
       "      <td>3.24</td>\n",
       "      <td>82.50</td>\n",
       "      <td>1.42</td>\n",
       "      <td>9.42</td>\n",
       "      <td>1.02</td>\n",
       "      <td>0.04</td>\n",
       "      <td>51805.41</td>\n",
       "      <td>423477M_419713F</td>\n",
       "      <td>423477</td>\n",
       "      <td>419713.0</td>\n",
       "    </tr>\n",
       "    <tr>\n",
       "      <th>3</th>\n",
       "      <td>3</td>\n",
       "      <td>Tennessee</td>\n",
       "      <td>6499615</td>\n",
       "      <td>4.72</td>\n",
       "      <td>73.49</td>\n",
       "      <td>18.28</td>\n",
       "      <td>0.23</td>\n",
       "      <td>1.41</td>\n",
       "      <td>0.04</td>\n",
       "      <td>47328.08</td>\n",
       "      <td>3167756M_3331859F</td>\n",
       "      <td>3167756</td>\n",
       "      <td>3331859.0</td>\n",
       "    </tr>\n",
       "    <tr>\n",
       "      <th>4</th>\n",
       "      <td>4</td>\n",
       "      <td>Texas</td>\n",
       "      <td>26538614</td>\n",
       "      <td>38.05</td>\n",
       "      <td>44.69</td>\n",
       "      <td>11.65</td>\n",
       "      <td>0.26</td>\n",
       "      <td>3.67</td>\n",
       "      <td>0.07</td>\n",
       "      <td>55874.52</td>\n",
       "      <td>13171316M_13367298F</td>\n",
       "      <td>13171316</td>\n",
       "      <td>13367298.0</td>\n",
       "    </tr>\n",
       "  </tbody>\n",
       "</table>\n",
       "</div>"
      ],
      "text/plain": [
       "   Unnamed: 0           State  TotalPop  Hispanic  White  Black  Native  \\\n",
       "0           0    Rhode Island   1053661     13.36  74.33   5.68    0.35   \n",
       "1           1  South Carolina   4777576      5.06  62.89  28.75    0.29   \n",
       "2           2    South Dakota    843190      3.24  82.50   1.42    9.42   \n",
       "3           3       Tennessee   6499615      4.72  73.49  18.28    0.23   \n",
       "4           4           Texas  26538614     38.05  44.69  11.65    0.26   \n",
       "\n",
       "   Asian  Pacific    Income            GenderPop       Men       Women  \n",
       "0   3.25     0.04  59125.27      510388M_543273F    510388    543273.0  \n",
       "1   1.25     0.05  46296.81    2322409M_2455167F   2322409   2455167.0  \n",
       "2   1.02     0.04  51805.41      423477M_419713F    423477    419713.0  \n",
       "3   1.41     0.04  47328.08    3167756M_3331859F   3167756   3331859.0  \n",
       "4   3.67     0.07  55874.52  13171316M_13367298F  13171316  13367298.0  "
      ]
     },
     "execution_count": 25,
     "metadata": {},
     "output_type": "execute_result"
    }
   ],
   "source": [
    "print(us_census.dtypes)\n",
    "us_census.head()"
   ]
  }
 ],
 "metadata": {
  "kernelspec": {
   "display_name": "Python 3 (ipykernel)",
   "language": "python",
   "name": "python3"
  },
  "language_info": {
   "codemirror_mode": {
    "name": "ipython",
    "version": 3
   },
   "file_extension": ".py",
   "mimetype": "text/x-python",
   "name": "python",
   "nbconvert_exporter": "python",
   "pygments_lexer": "ipython3",
   "version": "3.11.5"
  }
 },
 "nbformat": 4,
 "nbformat_minor": 2
}
